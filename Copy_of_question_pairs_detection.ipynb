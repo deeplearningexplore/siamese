{
  "nbformat": 4,
  "nbformat_minor": 0,
  "metadata": {
    "colab": {
      "name": "Copy of question_pairs_detection.ipynb",
      "provenance": [],
      "include_colab_link": true
    },
    "kernelspec": {
      "name": "python3",
      "display_name": "Python 3"
    },
    "accelerator": "GPU"
  },
  "cells": [
    {
      "cell_type": "markdown",
      "metadata": {
        "id": "view-in-github",
        "colab_type": "text"
      },
      "source": [
        "<a href=\"https://colab.research.google.com/github/deeplearningexplore/siamese/blob/main/Copy_of_question_pairs_detection.ipynb\" target=\"_parent\"><img src=\"https://colab.research.google.com/assets/colab-badge.svg\" alt=\"Open In Colab\"/></a>"
      ]
    },
    {
      "cell_type": "code",
      "metadata": {
        "id": "AGW2kWtx36Yy",
        "outputId": "ef66b2ea-80b3-4d55-c59e-934962ff84d4",
        "colab": {
          "resources": {
            "http://localhost:8080/nbextensions/google.colab/files.js": {
              "data": "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",
              "ok": true,
              "headers": [
                [
                  "content-type",
                  "application/javascript"
                ]
              ],
              "status": 200,
              "status_text": ""
            }
          },
          "base_uri": "https://localhost:8080/",
          "height": 264
        }
      },
      "source": [
        "# !pip install -q kaggle\n",
        "from google.colab import files\n",
        "files.upload()\n",
        "! mkdir ~/.kaggle\n",
        "! cp kaggle.json ~/.kaggle/\n",
        "! chmod 600 ~/.kaggle/kaggle.json\n",
        "! kaggle competitions download -c quora-question-pairs"
      ],
      "execution_count": 1,
      "outputs": [
        {
          "output_type": "display_data",
          "data": {
            "text/html": [
              "\n",
              "     <input type=\"file\" id=\"files-3a9232b5-2d8a-4a5e-ad28-3956a0c3aa86\" name=\"files[]\" multiple disabled\n",
              "        style=\"border:none\" />\n",
              "     <output id=\"result-3a9232b5-2d8a-4a5e-ad28-3956a0c3aa86\">\n",
              "      Upload widget is only available when the cell has been executed in the\n",
              "      current browser session. Please rerun this cell to enable.\n",
              "      </output>\n",
              "      <script src=\"/nbextensions/google.colab/files.js\"></script> "
            ],
            "text/plain": [
              "<IPython.core.display.HTML object>"
            ]
          },
          "metadata": {
            "tags": []
          }
        },
        {
          "output_type": "stream",
          "text": [
            "Saving kaggle.json to kaggle.json\n",
            "Warning: Looks like you're using an outdated API Version, please consider updating (server 1.5.6 / client 1.5.4)\n",
            "Downloading sample_submission.csv.zip to /content\n",
            "100% 4.95M/4.95M [00:00<00:00, 39.2MB/s]\n",
            "\n",
            "Downloading test.csv.zip to /content\n",
            " 99% 113M/114M [00:02<00:00, 32.4MB/s] \n",
            "100% 114M/114M [00:02<00:00, 47.5MB/s]\n",
            "test.csv.zip: Skipping, found more recently modified local copy (use --force to force download)\n",
            "Downloading train.csv.zip to /content\n",
            " 24% 5.00M/21.2M [00:00<00:02, 6.22MB/s]\n",
            "100% 21.2M/21.2M [00:00<00:00, 24.2MB/s]\n"
          ],
          "name": "stdout"
        }
      ]
    },
    {
      "cell_type": "code",
      "metadata": {
        "id": "dI_DrIsv4rFq"
      },
      "source": [
        "import tensorflow as tf\n",
        "import numpy as np\n",
        "import matplotlib.pyplot as plt\n",
        "import os\n",
        "import zipfile\n",
        "import pandas as pd\n",
        "import tensorflow.keras.backend as K\n",
        "import tqdm\n",
        "\n",
        "\n",
        "%matplotlib inline"
      ],
      "execution_count": 2,
      "outputs": []
    },
    {
      "cell_type": "code",
      "metadata": {
        "id": "UB2IjvVRDdG1"
      },
      "source": [
        "zip = zipfile.ZipFile(\"test.csv.zip\", \"r\")\n",
        "zip.extractall(\"./data\")\n"
      ],
      "execution_count": 3,
      "outputs": []
    },
    {
      "cell_type": "code",
      "metadata": {
        "id": "UBxUcSzfDu4g"
      },
      "source": [
        "zip = zipfile.ZipFile(\"train.csv.zip\", \"r\")\n",
        "zip.extractall(\"./data\")\n",
        "\n",
        "zip.close()"
      ],
      "execution_count": 4,
      "outputs": []
    },
    {
      "cell_type": "code",
      "metadata": {
        "id": "cWO44PR7D2gS"
      },
      "source": [
        "!rm \"train.csv.zip\"\n",
        "!rm \"test.csv.zip\""
      ],
      "execution_count": 5,
      "outputs": []
    },
    {
      "cell_type": "code",
      "metadata": {
        "id": "_g_rpzr4EPk5",
        "outputId": "9fcd43c8-edac-4ff0-a068-3a0c2a33f350",
        "colab": {
          "base_uri": "https://localhost:8080/",
          "height": 295
        }
      },
      "source": [
        "train_data = pd.read_csv(\"./data/train.csv\")\n",
        "test_data = pd.read_csv(\"./data/test.csv\")\n",
        "print(train_data.head())\n",
        "print(test_data.head())"
      ],
      "execution_count": 6,
      "outputs": [
        {
          "output_type": "stream",
          "text": [
            "   id  qid1  ...                                          question2 is_duplicate\n",
            "0   0     1  ...  What is the step by step guide to invest in sh...            0\n",
            "1   1     3  ...  What would happen if the Indian government sto...            0\n",
            "2   2     5  ...  How can Internet speed be increased by hacking...            0\n",
            "3   3     7  ...  Find the remainder when [math]23^{24}[/math] i...            0\n",
            "4   4     9  ...            Which fish would survive in salt water?            0\n",
            "\n",
            "[5 rows x 6 columns]\n",
            "   test_id  ...                                          question2\n",
            "0        0  ...  Why did Microsoft choose core m3 and not core ...\n",
            "1        1  ...        How much cost does hair transplant require?\n",
            "2        2  ...                      What you send money to China?\n",
            "3        3  ...                                  What foods fibre?\n",
            "4        4  ...                     How their can I start reading?\n",
            "\n",
            "[5 rows x 3 columns]\n"
          ],
          "name": "stdout"
        }
      ]
    },
    {
      "cell_type": "code",
      "metadata": {
        "id": "oFQOmWPsFfwI",
        "outputId": "84c08687-b66c-4036-c441-e1101db8a7b1",
        "colab": {
          "base_uri": "https://localhost:8080/",
          "height": 35
        }
      },
      "source": [
        "train_data.columns"
      ],
      "execution_count": 7,
      "outputs": [
        {
          "output_type": "execute_result",
          "data": {
            "text/plain": [
              "Index(['id', 'qid1', 'qid2', 'question1', 'question2', 'is_duplicate'], dtype='object')"
            ]
          },
          "metadata": {
            "tags": []
          },
          "execution_count": 7
        }
      ]
    },
    {
      "cell_type": "code",
      "metadata": {
        "id": "gF0vg_YRGuKc",
        "outputId": "33e62326-7d8c-445b-98d8-8ebf1f16ebc3",
        "colab": {
          "base_uri": "https://localhost:8080/",
          "height": 202
        }
      },
      "source": [
        "train_data = train_data[train_data[\"is_duplicate\"]==1]\n",
        "train_data.head()"
      ],
      "execution_count": 8,
      "outputs": [
        {
          "output_type": "execute_result",
          "data": {
            "text/html": [
              "<div>\n",
              "<style scoped>\n",
              "    .dataframe tbody tr th:only-of-type {\n",
              "        vertical-align: middle;\n",
              "    }\n",
              "\n",
              "    .dataframe tbody tr th {\n",
              "        vertical-align: top;\n",
              "    }\n",
              "\n",
              "    .dataframe thead th {\n",
              "        text-align: right;\n",
              "    }\n",
              "</style>\n",
              "<table border=\"1\" class=\"dataframe\">\n",
              "  <thead>\n",
              "    <tr style=\"text-align: right;\">\n",
              "      <th></th>\n",
              "      <th>id</th>\n",
              "      <th>qid1</th>\n",
              "      <th>qid2</th>\n",
              "      <th>question1</th>\n",
              "      <th>question2</th>\n",
              "      <th>is_duplicate</th>\n",
              "    </tr>\n",
              "  </thead>\n",
              "  <tbody>\n",
              "    <tr>\n",
              "      <th>5</th>\n",
              "      <td>5</td>\n",
              "      <td>11</td>\n",
              "      <td>12</td>\n",
              "      <td>Astrology: I am a Capricorn Sun Cap moon and c...</td>\n",
              "      <td>I'm a triple Capricorn (Sun, Moon and ascendan...</td>\n",
              "      <td>1</td>\n",
              "    </tr>\n",
              "    <tr>\n",
              "      <th>7</th>\n",
              "      <td>7</td>\n",
              "      <td>15</td>\n",
              "      <td>16</td>\n",
              "      <td>How can I be a good geologist?</td>\n",
              "      <td>What should I do to be a great geologist?</td>\n",
              "      <td>1</td>\n",
              "    </tr>\n",
              "    <tr>\n",
              "      <th>11</th>\n",
              "      <td>11</td>\n",
              "      <td>23</td>\n",
              "      <td>24</td>\n",
              "      <td>How do I read and find my YouTube comments?</td>\n",
              "      <td>How can I see all my Youtube comments?</td>\n",
              "      <td>1</td>\n",
              "    </tr>\n",
              "    <tr>\n",
              "      <th>12</th>\n",
              "      <td>12</td>\n",
              "      <td>25</td>\n",
              "      <td>26</td>\n",
              "      <td>What can make Physics easy to learn?</td>\n",
              "      <td>How can you make physics easy to learn?</td>\n",
              "      <td>1</td>\n",
              "    </tr>\n",
              "    <tr>\n",
              "      <th>13</th>\n",
              "      <td>13</td>\n",
              "      <td>27</td>\n",
              "      <td>28</td>\n",
              "      <td>What was your first sexual experience like?</td>\n",
              "      <td>What was your first sexual experience?</td>\n",
              "      <td>1</td>\n",
              "    </tr>\n",
              "  </tbody>\n",
              "</table>\n",
              "</div>"
            ],
            "text/plain": [
              "    id  qid1  ...                                          question2 is_duplicate\n",
              "5    5    11  ...  I'm a triple Capricorn (Sun, Moon and ascendan...            1\n",
              "7    7    15  ...          What should I do to be a great geologist?            1\n",
              "11  11    23  ...             How can I see all my Youtube comments?            1\n",
              "12  12    25  ...            How can you make physics easy to learn?            1\n",
              "13  13    27  ...             What was your first sexual experience?            1\n",
              "\n",
              "[5 rows x 6 columns]"
            ]
          },
          "metadata": {
            "tags": []
          },
          "execution_count": 8
        }
      ]
    },
    {
      "cell_type": "code",
      "metadata": {
        "id": "vzqhPtprICGi"
      },
      "source": [
        "train_d1 = train_data['question1'].values\n",
        "train_d2 = train_data['question2'].values"
      ],
      "execution_count": 9,
      "outputs": []
    },
    {
      "cell_type": "code",
      "metadata": {
        "id": "GU90kKIrIoL6",
        "outputId": "f5185d80-5fbb-4785-c8fe-6f5bf52d2d4f",
        "colab": {
          "base_uri": "https://localhost:8080/",
          "height": 35
        }
      },
      "source": [
        "train_d1.shape"
      ],
      "execution_count": 10,
      "outputs": [
        {
          "output_type": "execute_result",
          "data": {
            "text/plain": [
              "(149263,)"
            ]
          },
          "metadata": {
            "tags": []
          },
          "execution_count": 10
        }
      ]
    },
    {
      "cell_type": "code",
      "metadata": {
        "id": "IsbeBor2Iq5x"
      },
      "source": [
        "train_d = np.concatenate([train_d1,train_d2])"
      ],
      "execution_count": 11,
      "outputs": []
    },
    {
      "cell_type": "code",
      "metadata": {
        "id": "MZoQAT3HI3bQ",
        "outputId": "2de99622-79a4-4570-834e-be2f56e58d73",
        "colab": {
          "base_uri": "https://localhost:8080/",
          "height": 35
        }
      },
      "source": [
        "train_d.shape"
      ],
      "execution_count": 12,
      "outputs": [
        {
          "output_type": "execute_result",
          "data": {
            "text/plain": [
              "(298526,)"
            ]
          },
          "metadata": {
            "tags": []
          },
          "execution_count": 12
        }
      ]
    },
    {
      "cell_type": "code",
      "metadata": {
        "id": "yVjIS3Z6Jnfp"
      },
      "source": [
        "oov_token = \"<ukw>\"\n",
        "pad = \"post\"\n"
      ],
      "execution_count": 13,
      "outputs": []
    },
    {
      "cell_type": "code",
      "metadata": {
        "id": "lG6QLFUqNnxE"
      },
      "source": [
        "tokenizer = tf.keras.preprocessing.text.Tokenizer(oov_token=oov_token)\n",
        "tokenizer.fit_on_texts(train_d)\n",
        "word_index = tokenizer.word_index\n"
      ],
      "execution_count": 14,
      "outputs": []
    },
    {
      "cell_type": "code",
      "metadata": {
        "id": "qG-4gip-OAfc",
        "outputId": "13c6cf31-73ad-40a5-c4f4-136ff3c23cec",
        "colab": {
          "base_uri": "https://localhost:8080/",
          "height": 35
        }
      },
      "source": [
        "len(word_index)"
      ],
      "execution_count": 15,
      "outputs": [
        {
          "output_type": "execute_result",
          "data": {
            "text/plain": [
              "31468"
            ]
          },
          "metadata": {
            "tags": []
          },
          "execution_count": 15
        }
      ]
    },
    {
      "cell_type": "code",
      "metadata": {
        "id": "MSs3FkVvOEIP"
      },
      "source": [
        "train_data1 = tokenizer.texts_to_sequences(train_d1)"
      ],
      "execution_count": 16,
      "outputs": []
    },
    {
      "cell_type": "code",
      "metadata": {
        "id": "GWq2Nqo7OaqT"
      },
      "source": [
        "train_data2 = tokenizer.texts_to_sequences(train_d2)"
      ],
      "execution_count": 17,
      "outputs": []
    },
    {
      "cell_type": "code",
      "metadata": {
        "id": "WxqeHPGUOdli",
        "outputId": "8acd89f2-bb18-4578-cc14-5c752c2b50ff",
        "colab": {
          "base_uri": "https://localhost:8080/",
          "height": 35
        }
      },
      "source": [
        "word_index[\"ambulance\"]"
      ],
      "execution_count": 18,
      "outputs": [
        {
          "output_type": "execute_result",
          "data": {
            "text/plain": [
              "19614"
            ]
          },
          "metadata": {
            "tags": []
          },
          "execution_count": 18
        }
      ]
    },
    {
      "cell_type": "code",
      "metadata": {
        "id": "DuFLbA5XPLU1"
      },
      "source": [
        "def data_generator(q1,q2,batch_size,num_units):\n",
        "  indexes = list(range(len(q1)))\n",
        "  indexes = tf.random.shuffle(indexes)\n",
        "  length = len(q1)\n",
        "  input1 = []\n",
        "  input2 = []\n",
        "  index = 0\n",
        "\n",
        "  while True:\n",
        "    if index==length:\n",
        "      index = 0\n",
        "      indexes = tf.random.shuffle(indexes)\n",
        "    \n",
        "    input1.append(q1[indexes[index]])\n",
        "    input2.append(q2[indexes[index]])\n",
        "\n",
        "    index+=1\n",
        "\n",
        "    if len(input1)==batch_size:\n",
        "      max_length = np.max((np.max([len(x) for x in input1]),np.max([len(x) for x in input2])))\n",
        "      max_length = 2**int(np.ceil(np.log2(max_length)))\n",
        "\n",
        "      input1 = tf.keras.preprocessing.sequence.pad_sequences(input1,maxlen=max_length,padding=pad,truncating=pad)\n",
        "      input2 = tf.keras.preprocessing.sequence.pad_sequences(input2,maxlen=max_length,padding=pad,truncating=pad)\n",
        "\n",
        "      yield [np.array(input1),np.array(input2)],np.zeros((2,batch_size, num_units))\n",
        "\n",
        "      input1 = []\n",
        "      input2 = []\n",
        "\n"
      ],
      "execution_count": 19,
      "outputs": []
    },
    {
      "cell_type": "code",
      "metadata": {
        "id": "8O8-db3vT0PD"
      },
      "source": [
        "vocab_size =  len(tokenizer.word_index) + 1\n",
        "dimensions = 300\n",
        "batch_size = 256\n",
        "num_units = 512\n",
        "steps_per_epoch = len(train_data1)//batch_size"
      ],
      "execution_count": 43,
      "outputs": []
    },
    {
      "cell_type": "code",
      "metadata": {
        "id": "gLjApcBRPS3p"
      },
      "source": [
        "a,b=next(data_generator(train_data1,train_data2,5,num_units))"
      ],
      "execution_count": 21,
      "outputs": []
    },
    {
      "cell_type": "code",
      "metadata": {
        "id": "QHsCQL0MaVu5",
        "outputId": "0d45535e-c774-47a6-94d0-19e7f9e53841",
        "colab": {
          "base_uri": "https://localhost:8080/",
          "height": 589
        }
      },
      "source": [
        "print(a[0].shape)\n",
        "p = np.array(a)\n",
        "print(p)\n",
        "print(b)"
      ],
      "execution_count": 22,
      "outputs": [
        {
          "output_type": "stream",
          "text": [
            "(5, 16)\n",
            "[[[    5     8     6   500    10   102     9    33     0     0     0\n",
            "       0     0     0     0     0]\n",
            "  [    5     8    55   856   697     0     0     0     0     0     0\n",
            "       0     0     0     0     0]\n",
            "  [    3     4  2055   254    12    44     0     0     0     0     0\n",
            "       0     0     0     0     0]\n",
            "  [    3     4    88    58   213   287    14   142    14   213   142\n",
            "       0     0     0     0     0]\n",
            "  [    3     4     2    16   304     7   219     9   458     9  3636\n",
            "       0     0     0     0     0]]\n",
            "\n",
            " [[    5     8     6   500   487     9    33     0     0     0     0\n",
            "       0     0     0     0     0]\n",
            "  [    5     7   856   697     0     0     0     0     0     0     0\n",
            "       0     0     0     0     0]\n",
            "  [    3   923     7    15     4     2   254    12    44     0     0\n",
            "       0     0     0     0     0]\n",
            "  [    3     4     2 10215    58   213   287    14   213   142     0\n",
            "       0     0     0     0     0]\n",
            "  [    3    11     2    16   224     7   219     9   458    18   259\n",
            "     284     0     0     0     0]]]\n",
            "[[[0. 0. 0. ... 0. 0. 0.]\n",
            "  [0. 0. 0. ... 0. 0. 0.]\n",
            "  [0. 0. 0. ... 0. 0. 0.]\n",
            "  [0. 0. 0. ... 0. 0. 0.]\n",
            "  [0. 0. 0. ... 0. 0. 0.]]\n",
            "\n",
            " [[0. 0. 0. ... 0. 0. 0.]\n",
            "  [0. 0. 0. ... 0. 0. 0.]\n",
            "  [0. 0. 0. ... 0. 0. 0.]\n",
            "  [0. 0. 0. ... 0. 0. 0.]\n",
            "  [0. 0. 0. ... 0. 0. 0.]]]\n"
          ],
          "name": "stdout"
        }
      ]
    },
    {
      "cell_type": "code",
      "metadata": {
        "id": "2z6_bb6nbK8Z",
        "outputId": "1da8acdb-36b6-4e6e-e92d-07fe8e542865",
        "colab": {
          "base_uri": "https://localhost:8080/",
          "height": 208
        }
      },
      "source": [
        "!wget \"https://dl.fbaipublicfiles.com/fasttext/vectors-english/wiki-news-300d-1M.vec.zip\""
      ],
      "execution_count": 23,
      "outputs": [
        {
          "output_type": "stream",
          "text": [
            "--2020-10-17 08:57:33--  https://dl.fbaipublicfiles.com/fasttext/vectors-english/wiki-news-300d-1M.vec.zip\n",
            "Resolving dl.fbaipublicfiles.com (dl.fbaipublicfiles.com)... 172.67.9.4, 104.22.74.142, 104.22.75.142, ...\n",
            "Connecting to dl.fbaipublicfiles.com (dl.fbaipublicfiles.com)|172.67.9.4|:443... connected.\n",
            "HTTP request sent, awaiting response... 200 OK\n",
            "Length: 681808098 (650M) [application/zip]\n",
            "Saving to: ‘wiki-news-300d-1M.vec.zip’\n",
            "\n",
            "wiki-news-300d-1M.v 100%[===================>] 650.22M  10.7MB/s    in 62s     \n",
            "\n",
            "2020-10-17 08:58:35 (10.5 MB/s) - ‘wiki-news-300d-1M.vec.zip’ saved [681808098/681808098]\n",
            "\n"
          ],
          "name": "stdout"
        }
      ]
    },
    {
      "cell_type": "code",
      "metadata": {
        "id": "osptkRKQRVmB"
      },
      "source": [
        "zip = zipfile.ZipFile(\"wiki-news-300d-1M.vec.zip\", \"r\")\n",
        "zip.extractall(\"./data\")\n",
        "zip.close()"
      ],
      "execution_count": 24,
      "outputs": []
    },
    {
      "cell_type": "code",
      "metadata": {
        "id": "BANeV82kRqkb"
      },
      "source": [
        "!rm \"wiki-news-300d-1M.vec.zip\""
      ],
      "execution_count": 25,
      "outputs": []
    },
    {
      "cell_type": "code",
      "metadata": {
        "id": "j3CtAT74Rz1D"
      },
      "source": [
        "import io\n",
        "\n",
        "def load_vectors(fname):\n",
        "    fin = io.open(fname, 'r', encoding='utf-8', newline='\\n', errors='ignore')\n",
        "    n, d = map(int, fin.readline().split())\n",
        "    data = {}\n",
        "    for line in fin:\n",
        "        tokens = line.rstrip().split(' ')\n",
        "        data[tokens[0]] = np.asarray(tokens[1:], dtype='float32')\n",
        "    return data\n",
        "\n",
        "embedding_vectors =  load_vectors(\"data/wiki-news-300d-1M.vec\")"
      ],
      "execution_count": 26,
      "outputs": []
    },
    {
      "cell_type": "code",
      "metadata": {
        "id": "sg6Qig2pSkIu",
        "outputId": "b4a58a10-1f7a-4ff9-cfbc-cc10840dd80d",
        "colab": {
          "base_uri": "https://localhost:8080/",
          "height": 35
        }
      },
      "source": [
        "len(embedding_vectors)"
      ],
      "execution_count": 27,
      "outputs": [
        {
          "output_type": "execute_result",
          "data": {
            "text/plain": [
              "999994"
            ]
          },
          "metadata": {
            "tags": []
          },
          "execution_count": 27
        }
      ]
    },
    {
      "cell_type": "code",
      "metadata": {
        "id": "jXsdCX49dmE6"
      },
      "source": [
        "embedding_matrix = np.zeros((vocab_size, dimensions))\n",
        "for word,index in word_index.items():\n",
        "  val = embedding_vectors.get(word, None)\n",
        "  if val is not None:\n",
        "    embedding_matrix[index] = val"
      ],
      "execution_count": 28,
      "outputs": []
    },
    {
      "cell_type": "code",
      "metadata": {
        "id": "JCnGbBhHehVP"
      },
      "source": [
        "del embedding_vectors"
      ],
      "execution_count": 29,
      "outputs": []
    },
    {
      "cell_type": "code",
      "metadata": {
        "id": "0k9HyiAOVZNU"
      },
      "source": [
        "# tf.compat.v1.enable_eager_execution()"
      ],
      "execution_count": null,
      "outputs": []
    },
    {
      "cell_type": "code",
      "metadata": {
        "id": "g4SnA72_fDaQ",
        "outputId": "7bfb70f0-f12f-477d-c26d-78ea15bfd6be",
        "colab": {
          "base_uri": "https://localhost:8080/",
          "height": 572
        }
      },
      "source": [
        "embedding_layer = tf.keras.layers.Embedding(vocab_size,\n",
        "                                            dimensions,\n",
        "                                            weights=[embedding_matrix],\n",
        "                                            trainable = False\n",
        "                                            )\n",
        "\n",
        "model = tf.keras.Sequential()\n",
        "model.add(embedding_layer)\n",
        "model.add(tf.keras.layers.LSTM(num_units, return_sequences = True))\n",
        "model.add(tf.keras.layers.LSTM(num_units))\n",
        "\n",
        "input1 = tf.keras.Input(shape=(None,))\n",
        "input2 = tf.keras.Input(shape=(None,))\n",
        "\n",
        "vectors1 = model(input1)\n",
        "vectors2 = model(input2)\n",
        "\n",
        "output = tf.keras.layers.concatenate([vectors1, vectors2], axis=0)\n",
        "\n",
        "saimese = tf.keras.Model(inputs = [input1, input2], outputs = output)\n",
        "\n",
        "saimese.summary()\n",
        "model.summary()"
      ],
      "execution_count": 44,
      "outputs": [
        {
          "output_type": "stream",
          "text": [
            "Model: \"functional_3\"\n",
            "__________________________________________________________________________________________________\n",
            "Layer (type)                    Output Shape         Param #     Connected to                     \n",
            "==================================================================================================\n",
            "input_3 (InputLayer)            [(None, None)]       0                                            \n",
            "__________________________________________________________________________________________________\n",
            "input_4 (InputLayer)            [(None, None)]       0                                            \n",
            "__________________________________________________________________________________________________\n",
            "sequential_1 (Sequential)       (None, 512)          13204924    input_3[0][0]                    \n",
            "                                                                 input_4[0][0]                    \n",
            "__________________________________________________________________________________________________\n",
            "concatenate_1 (Concatenate)     (None, 512)          0           sequential_1[0][0]               \n",
            "                                                                 sequential_1[1][0]               \n",
            "==================================================================================================\n",
            "Total params: 13,204,924\n",
            "Trainable params: 3,764,224\n",
            "Non-trainable params: 9,440,700\n",
            "__________________________________________________________________________________________________\n",
            "Model: \"sequential_1\"\n",
            "_________________________________________________________________\n",
            "Layer (type)                 Output Shape              Param #   \n",
            "=================================================================\n",
            "embedding_1 (Embedding)      (None, None, 300)         9440700   \n",
            "_________________________________________________________________\n",
            "lstm_2 (LSTM)                (None, None, 512)         1665024   \n",
            "_________________________________________________________________\n",
            "lstm_3 (LSTM)                (None, 512)               2099200   \n",
            "=================================================================\n",
            "Total params: 13,204,924\n",
            "Trainable params: 3,764,224\n",
            "Non-trainable params: 9,440,700\n",
            "_________________________________________________________________\n"
          ],
          "name": "stdout"
        }
      ]
    },
    {
      "cell_type": "code",
      "metadata": {
        "id": "IdV5JtCrWi9Y",
        "outputId": "0d3016c2-b527-47c8-c066-5f0097848b41",
        "colab": {
          "base_uri": "https://localhost:8080/",
          "height": 35
        }
      },
      "source": [
        "x = np.array(saimese([a[0],a[1]]))\n",
        "x.shape"
      ],
      "execution_count": 45,
      "outputs": [
        {
          "output_type": "execute_result",
          "data": {
            "text/plain": [
              "(10, 512)"
            ]
          },
          "metadata": {
            "tags": []
          },
          "execution_count": 45
        }
      ]
    },
    {
      "cell_type": "code",
      "metadata": {
        "id": "DKE3ZuhScrjS"
      },
      "source": [
        "def TripletLoss(batch_size, margin = 0.75):\n",
        "  def lossfn(actual, vectors):\n",
        "    anchor1 = vectors[:batch_size,:]\n",
        "    anchor2 = vectors[batch_size:,:]\n",
        "\n",
        "    anchor1 = anchor1 / K.sqrt(K.sum(K.square(anchor1), axis=1, keepdims=True))\n",
        "    anchor2 = anchor2 / K.sqrt(K.sum(K.square(anchor2), axis=1, keepdims=True))\n",
        "    similarity_matrix = K.dot(anchor1, K.transpose(anchor2))\n",
        "\n",
        "    positive = K.sum(similarity_matrix * K.eye(batch_size), axis=1)\n",
        "    temp1 = similarity_matrix - K.eye(batch_size) * 2.0\n",
        "    temp2 = similarity_matrix * ( 1 - K.eye(batch_size))\n",
        "\n",
        "    mean_negative = K.sum(temp2, axis=1) / (batch_size-1)\n",
        "    max_negative = K.max(temp1, axis=1)\n",
        "\n",
        "    # print()\n",
        "    # print(similarity_matrix)\n",
        "    # print(mean_negative)\n",
        "    # print(max_negative)\n",
        "    # print()\n",
        "\n",
        "    loss1 = K.maximum(0.0, mean_negative - positive + margin )\n",
        "    loss2 = K.maximum(0.0, max_negative - positive + margin )\n",
        "\n",
        "    loss = K.mean(loss1 + loss2)\n",
        "\n",
        "    return loss\n",
        "  return lossfn"
      ],
      "execution_count": 46,
      "outputs": []
    },
    {
      "cell_type": "code",
      "metadata": {
        "id": "ntWxnjNj_QUP"
      },
      "source": [
        "def warmp_with_rsqrt_decay(n_warmup_steps, max_value):\n",
        "  body_value = max_value\n",
        "  body_start = n_warmup_steps + 1\n",
        "  tail_start = n_warmup_steps + 1\n",
        "\n",
        "  def schedule_lr(step_no, rate):\n",
        "    if step_no < body_start:\n",
        "      return (step_no / body_start * body_value)\n",
        "    else:\n",
        "      return body_value * np.sqrt(tail_start) / np.sqrt(step_no)\n",
        "    \n",
        "  return schedule_lr"
      ],
      "execution_count": 56,
      "outputs": []
    },
    {
      "cell_type": "code",
      "metadata": {
        "id": "UFlsoa_mg-Kk"
      },
      "source": [
        "saimese.compile(optimizer=tf.keras.optimizers.Adam(0.01), loss = TripletLoss(batch_size = batch_size))\n",
        "tf.config.experimental_run_functions_eagerly(True)\n",
        "\n",
        "lr_scheduler = tf.keras.callbacks.LearningRateScheduler(warmp_with_rsqrt_decay(400, 0.01))\t\t\n",
        "es = tf.keras.callbacks.EarlyStopping(monitor='loss', mode=\"min\", patience = 2)"
      ],
      "execution_count": 57,
      "outputs": []
    },
    {
      "cell_type": "code",
      "metadata": {
        "id": "oqVBJWuspW2C",
        "outputId": "530bd225-9089-4554-ee23-4e352c706876",
        "colab": {
          "base_uri": "https://localhost:8080/",
          "height": 349
        }
      },
      "source": [
        "history = saimese.fit_generator(data_generator(train_data1,train_data2,batch_size,num_units),\n",
        "                                epochs=30,\n",
        "                                steps_per_epoch=steps_per_epoch,\n",
        "                                callbacks = [es, lr_scheduler])"
      ],
      "execution_count": null,
      "outputs": [
        {
          "output_type": "stream",
          "text": [
            "/usr/local/lib/python3.6/dist-packages/tensorflow/python/data/ops/dataset_ops.py:3350: UserWarning: Even though the tf.config.experimental_run_functions_eagerly option is set, this option does not apply to tf.data functions. tf.data functions are still traced and executed as graphs.\n",
            "  \"Even though the tf.config.experimental_run_functions_eagerly \"\n"
          ],
          "name": "stderr"
        },
        {
          "output_type": "stream",
          "text": [
            "Epoch 1/30\n",
            "583/583 [==============================] - 122s 210ms/step - loss: 1.1077\n",
            "Epoch 2/30\n",
            "583/583 [==============================] - 123s 211ms/step - loss: 1.1065\n",
            "Epoch 3/30\n",
            "583/583 [==============================] - 125s 215ms/step - loss: 1.1026\n",
            "Epoch 4/30\n",
            "583/583 [==============================] - 125s 214ms/step - loss: 1.1002\n",
            "Epoch 5/30\n",
            "583/583 [==============================] - 126s 216ms/step - loss: 1.0948\n",
            "Epoch 6/30\n",
            "583/583 [==============================] - 128s 220ms/step - loss: 1.0893\n",
            "Epoch 7/30\n",
            "583/583 [==============================] - 126s 217ms/step - loss: 1.0853\n",
            "Epoch 8/30\n",
            "  5/583 [..............................] - ETA: 1:47 - loss: 1.1028"
          ],
          "name": "stdout"
        }
      ]
    },
    {
      "cell_type": "code",
      "metadata": {
        "id": "uhROlozuqnfY"
      },
      "source": [
        "plt.plot(history.history['loss'])\n",
        "plt.ylabel('loss')\n",
        "plt.xlabel('epoch')\n",
        "plt.show()"
      ],
      "execution_count": null,
      "outputs": []
    },
    {
      "cell_type": "code",
      "metadata": {
        "id": "3ZWih6BqYKmZ"
      },
      "source": [
        "uv = np.random.random((3,5))\n",
        "t = uv /np.sqrt(np.sum(np.square(uv), axis=-1, keepdims=True))\n",
        "np.sum(t*t, axis=-1) "
      ],
      "execution_count": null,
      "outputs": []
    },
    {
      "cell_type": "code",
      "metadata": {
        "id": "mZnC682rf33K"
      },
      "source": [
        "def cosine_similarity(a,b):\n",
        "  \n",
        "  a = a/np.expand_dims(np.linalg.norm(a,axis=-1),axis=-1)\n",
        "  b = b/np.expand_dims(np.linalg.norm(b,axis=-1),axis=-1)\n",
        "  dot_prod = np.sum(a*b,axis=-1)\n",
        "  \n",
        "\n",
        "  return dot_prod"
      ],
      "execution_count": null,
      "outputs": []
    },
    {
      "cell_type": "code",
      "metadata": {
        "id": "L7Jw3OQvAozN"
      },
      "source": [
        "def predict(a,b, margin=0):\n",
        "  \n",
        "  a = tokenizer.texts_to_sequences(a)\n",
        "  b = tokenizer.texts_to_sequences(b)\n",
        "  max_length = np.max((len(a),len(b)))\n",
        "  max_length = 2**int(np.ceil(np.log2(max_length)))\n",
        "\n",
        "  predict_input1 = tf.keras.preprocessing.sequence.pad_sequences(a,maxlen=max_length,padding=pad,truncating=pad)\n",
        "  predict_input2 = tf.keras.preprocessing.sequence.pad_sequences(b,maxlen=max_length,padding=pad,truncating=pad)\n",
        "  vectors = saimese([predict_input1,predict_input2])\n",
        "  similarity = cosine_similarity(vectors[0], vectors[1])\n",
        " # print(similarity.shape)\n",
        "  if similarity > 0.99:\n",
        "    return 1\n",
        "  else: \n",
        "    return 0"
      ],
      "execution_count": null,
      "outputs": []
    },
    {
      "cell_type": "code",
      "metadata": {
        "id": "uVGFt1PTB9n0"
      },
      "source": [
        "predict(\"How are you?\",\"How you doing?\")\n",
        "predict(\"What is your age?\",\"How old are you?\")\n",
        "predict(\"what is your name?\",\"what is your age?\")"
      ],
      "execution_count": null,
      "outputs": []
    },
    {
      "cell_type": "code",
      "metadata": {
        "id": "PtWDp2UdCLLx"
      },
      "source": [
        "\n",
        "def evaluate(inp, threshold):\n",
        "  inp = inp.dropna()\n",
        "  y = inp[\"is_duplicate\"].values\n",
        "  x1 = inp[\"question1\"].values\n",
        "  x2 = inp[\"question2\"].values\n",
        "\n",
        "  x1 = tokenizer.texts_to_sequences(x1)\n",
        "  x2 = tokenizer.texts_to_sequences(x2) \n",
        "\n",
        "  \n",
        "  total = y.shape[0]\n",
        "  correct = 0\n",
        "  true_positive = 0\n",
        "  true_negative = 0\n",
        "  false_positive = 0\n",
        "  false_negative = 0\n",
        "\n",
        "  per_epoch = 1024\n",
        "  for i in tqdm.tqdm(range(total//per_epoch)):\n",
        "\n",
        "    predict_input1 = x1[i*per_epoch:(i+1)*per_epoch]\n",
        "    predict_input2 = x2[i*per_epoch:(i+1)*per_epoch]\n",
        "    \n",
        "    max_length = np.max([np.max([len(x) for x in predict_input1]), np.max([len(x) for x in predict_input2])])\n",
        "\n",
        "    predict_input1 = tf.keras.preprocessing.sequence.pad_sequences(predict_input1,maxlen=max_length,padding=pad)\n",
        "    predict_input2 = tf.keras.preprocessing.sequence.pad_sequences(predict_input2,maxlen=max_length,padding=pad)\n",
        "\n",
        "    y_pred_vectors = saimese([predict_input1,predict_input2])\n",
        "    y_pred = cosine_similarity(y_pred_vectors[0:per_epoch],y_pred_vectors[per_epoch:])\n",
        "\n",
        "    y_pred_actual = 1*(y_pred >= threshold)\n",
        "    # print(np.min(y_pred))\n",
        "  \n",
        "    for j in range(per_epoch):\n",
        "      if y[j]==1 and y_pred_actual[j]==1:\n",
        "        correct+=1\n",
        "        true_positive +=1\n",
        "      elif y[j]==1 and y_pred_actual[j]==0:\n",
        "        false_negative +=1\n",
        "      elif y[j]==0 and y_pred_actual[j]==0:\n",
        "        correct+=1\n",
        "        true_negative +=1\n",
        "      elif y[j]==0 and y_pred_actual[j]==1:\n",
        "        false_positive +=1\n",
        "\n",
        "  print(\"\\n\\nAccuracy: {}\".format(correct/ total))\n",
        "\n",
        "  print(\"------------------------------------------\")\n",
        "  print(\"|\\t\\t\\tPredicted Values |\")\n",
        "  print(\"|\\t\\t\\tTrue \\t False\\t |\")\n",
        "  print(\"| Actual\\tTrue \\t{}\\t{}\\t |\".format(true_positive, false_negative))\n",
        "  print(\"| Values\\tFalse \\t{}\\t{}\\t |\".format(false_positive, true_negative))\n",
        "  print(\"------------------------------------------\")\n",
        "\n",
        "\n",
        "\n",
        "  return"
      ],
      "execution_count": null,
      "outputs": []
    },
    {
      "cell_type": "code",
      "metadata": {
        "id": "xfB4yY-6EUh_"
      },
      "source": [
        "full_train_data=pd.read_csv(\"./data/train.csv\")\n",
        "evaluate(full_train_data, 0.9)"
      ],
      "execution_count": null,
      "outputs": []
    },
    {
      "cell_type": "code",
      "metadata": {
        "id": "Nwe9kuAzJrQK"
      },
      "source": [
        "evaluate(full_train_data, 0.85)\n"
      ],
      "execution_count": null,
      "outputs": []
    },
    {
      "cell_type": "code",
      "metadata": {
        "id": "5pXhgdZLWcH8"
      },
      "source": [
        ""
      ],
      "execution_count": null,
      "outputs": []
    }
  ]
}